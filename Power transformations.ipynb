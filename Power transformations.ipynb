{
 "cells": [
  {
   "cell_type": "markdown",
   "id": "c7b5eb86",
   "metadata": {},
   "source": [
    "# Power transformations"
   ]
  },
  {
   "cell_type": "markdown",
   "id": "29fd73fe",
   "metadata": {},
   "source": [
    "Power transformations are often used to convert data that doesn't follow a normal distribution into a more symmetric or normal-like distribution. The transformations , namely lognormal, chi-squared, and Weibull, are related to different probability distributions and can be used to transform data into a more interpretable or analytically convenient form."
   ]
  },
  {
   "cell_type": "code",
   "execution_count": 1,
   "id": "66292181",
   "metadata": {},
   "outputs": [],
   "source": [
    "#import paskages\n",
    "import numpy as np\n",
    "import matplotlib.pyplot as plt"
   ]
  },
  {
   "cell_type": "code",
   "execution_count": 24,
   "id": "8f93057a",
   "metadata": {},
   "outputs": [],
   "source": [
    "#sample data\n",
    "data = np.array([22,25,26,27,29,29,30,35,36,40,42,50])"
   ]
  },
  {
   "cell_type": "markdown",
   "id": "5b73c921",
   "metadata": {},
   "source": [
    "##### Lognormal Transformation:\n"
   ]
  },
  {
   "cell_type": "markdown",
   "id": "05620d37",
   "metadata": {},
   "source": [
    "The lognormal distribution is often used to model data that is positively skewed. To perform a lognormal transformation, you can take the natural logarithm of your data.\n",
    "\n"
   ]
  },
  {
   "cell_type": "code",
   "execution_count": 25,
   "id": "7e9e21de",
   "metadata": {},
   "outputs": [],
   "source": [
    "#log transformation\n",
    "log_transoform = np.log(data)"
   ]
  },
  {
   "cell_type": "code",
   "execution_count": 26,
   "id": "fc456401",
   "metadata": {},
   "outputs": [
    {
     "name": "stdout",
     "output_type": "stream",
     "text": [
      "Lognormal Transformation:\n",
      "[3.09104245 3.21887582 3.25809654 3.29583687 3.36729583 3.36729583\n",
      " 3.40119738 3.55534806 3.58351894 3.68887945 3.73766962 3.91202301]\n"
     ]
    }
   ],
   "source": [
    "#print\n",
    "print(\"Lognormal Transformation:\")\n",
    "print(log_transoform)"
   ]
  },
  {
   "cell_type": "code",
   "execution_count": null,
   "id": "849ef229",
   "metadata": {},
   "outputs": [],
   "source": []
  },
  {
   "cell_type": "markdown",
   "id": "2ac52bc4",
   "metadata": {},
   "source": [
    "##### Chi-Squared Transformation:\n"
   ]
  },
  {
   "cell_type": "code",
   "execution_count": 27,
   "id": "ee8eb56a",
   "metadata": {},
   "outputs": [],
   "source": [
    "chi_squared = data**2"
   ]
  },
  {
   "cell_type": "code",
   "execution_count": 28,
   "id": "1881a23b",
   "metadata": {},
   "outputs": [
    {
     "name": "stdout",
     "output_type": "stream",
     "text": [
      "Chi-Squared Transformation:\n",
      "[ 484  625  676  729  841  841  900 1225 1296 1600 1764 2500]\n"
     ]
    }
   ],
   "source": [
    "# Print  chi-squared transformed \n",
    "print(\"Chi-Squared Transformation:\")\n",
    "print(chi_squared)"
   ]
  },
  {
   "cell_type": "code",
   "execution_count": null,
   "id": "1ed62565",
   "metadata": {},
   "outputs": [],
   "source": []
  },
  {
   "cell_type": "markdown",
   "id": "4fd19839",
   "metadata": {},
   "source": [
    "##### Weibull Transformation:\n"
   ]
  },
  {
   "cell_type": "markdown",
   "id": "1a573f09",
   "metadata": {},
   "source": [
    "The Weibull distribution is often used to model extreme value data. To perform a Weibull transformation, you can raise your data to a power.\n",
    "\n"
   ]
  },
  {
   "cell_type": "code",
   "execution_count": 29,
   "id": "1d37e1b4",
   "metadata": {},
   "outputs": [],
   "source": [
    "#  Weibull transformation\n",
    "parameter_shape = 2  \n",
    "weibull_transform = data ** parameter_shape"
   ]
  },
  {
   "cell_type": "code",
   "execution_count": 30,
   "id": "ffc8c39c",
   "metadata": {},
   "outputs": [
    {
     "name": "stdout",
     "output_type": "stream",
     "text": [
      "Weibull Transformation:\n",
      "[ 484  625  676  729  841  841  900 1225 1296 1600 1764 2500]\n"
     ]
    }
   ],
   "source": [
    "# Prin  Weibull transformed \n",
    "print(\"Weibull Transformation:\")\n",
    "print(weibull_transform)"
   ]
  },
  {
   "cell_type": "code",
   "execution_count": null,
   "id": "7c0591ae",
   "metadata": {},
   "outputs": [],
   "source": []
  },
  {
   "cell_type": "markdown",
   "id": "f2610d85",
   "metadata": {},
   "source": [
    "### plot the original data and the transformed data"
   ]
  },
  {
   "cell_type": "code",
   "execution_count": 31,
   "id": "007d67cd",
   "metadata": {},
   "outputs": [
    {
     "data": {
      "image/png": "[encoded data removed]",
      "text/plain": [
       "<Figure size 1500x500 with 3 Axes>"
      ]
     },
     "metadata": {},
     "output_type": "display_data"
    }
   ],
   "source": [
    "# Create a figure with three subplots\n",
    "fig, axes = plt.subplots(1, 3, figsize=(15, 5))\n",
    "\n",
    "# Original \n",
    "axes[0].hist(data, bins=5, edgecolor='k', alpha=0.7)\n",
    "axes[0].set_title(\"Original Data\")\n",
    "\n",
    "# Lognormal Transformation\n",
    "axes[1].hist(log_transoform, bins=5, edgecolor='k', alpha=0.7)\n",
    "axes[1].set_title(\"Lognormal Transformation\")\n",
    "\n",
    "# Chi-Squared \n",
    "axes[2].hist(chi_squared, bins=5, edgecolor='k', alpha=0.7)\n",
    "axes[2].set_title(\"Chi-Squared Transformation\")\n",
    "\n",
    "plt.tight_layout()\n",
    "\n",
    "plt.show()"
   ]
  },
  {
   "cell_type": "code",
   "execution_count": null,
   "id": "442964b1",
   "metadata": {},
   "outputs": [],
   "source": []
  },
  {
   "cell_type": "code",
   "execution_count": null,
   "id": "0252a7c5",
   "metadata": {},
   "outputs": [],
   "source": []
  },
  {
   "cell_type": "code",
   "execution_count": null,
   "id": "2245e5f6",
   "metadata": {},
   "outputs": [],
   "source": []
  },
  {
   "cell_type": "code",
   "execution_count": null,
   "id": "31c3cb35",
   "metadata": {},
   "outputs": [],
   "source": []
  },
  {
   "cell_type": "code",
   "execution_count": null,
   "id": "096970d2",
   "metadata": {},
   "outputs": [],
   "source": []
  }
 ],
 "metadata": {
  "kernelspec": {
   "display_name": "Python 3 (ipykernel)",
   "language": "python",
   "name": "python3"
  },
  "language_info": {
   "codemirror_mode": {
    "name": "ipython",
    "version": 3
   },
   "file_extension": ".py",
   "mimetype": "text/x-python",
   "name": "python",
   "nbconvert_exporter": "python",
   "pygments_lexer": "ipython3",
   "version": "3.9.13"
  }
 },
 "nbformat": 4,
 "nbformat_minor": 5
}
